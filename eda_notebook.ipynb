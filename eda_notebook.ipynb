{
 "cells": [
  {
   "cell_type": "code",
   "execution_count": 1,
   "id": "28cf522c-4267-48b0-bbef-e9e6688f8e8f",
   "metadata": {},
   "outputs": [
    {
     "name": "stdout",
     "output_type": "stream",
     "text": [
      "Hello, Data World!\n"
     ]
    }
   ],
   "source": [
    "import pandas as pd\n",
    "print(\"Hello, Data World!\")"
   ]
  },
  {
   "cell_type": "code",
   "execution_count": 2,
   "id": "e9f588e8-586a-465f-8774-5ffffe70f131",
   "metadata": {},
   "outputs": [
    {
     "name": "stdout",
     "output_type": "stream",
     "text": [
      "متوسط الدرجات: 90.0\n",
      "الانحراف المعياري: 7.0710678118654755\n",
      "متوسط (Pandas): 90.0\n",
      "انحراف معياري (Pandas): 7.905694150420948\n"
     ]
    }
   ],
   "source": [
    "import numpy as np\n",
    "import pandas as pd\n",
    "\n",
    "# مجموعة بيانات بسيطة: درجات طلاب\n",
    "grades = [80, 85, 90, 95, 100]\n",
    "\n",
    "# باستخدام NumPy\n",
    "print(\"متوسط الدرجات:\", np.mean(grades))\n",
    "print(\"الانحراف المعياري:\", np.std(grades))\n",
    "\n",
    "# باستخدام Pandas\n",
    "series = pd.Series(grades)\n",
    "print(\"متوسط (Pandas):\", series.mean())\n",
    "print(\"انحراف معياري (Pandas):\", series.std())\n"
   ]
  },
  {
   "cell_type": "code",
   "execution_count": 3,
   "id": "862c97ae-c11c-4db9-ace5-ff6b3e5271b1",
   "metadata": {},
   "outputs": [
    {
     "name": "stdout",
     "output_type": "stream",
     "text": [
      "📘 الفصل A\n",
      "المتوسط: 90.0\n",
      "الانحراف المعياري: 1.5811388300841898\n",
      "\n",
      "📙 الفصل B\n",
      "المتوسط: 82.0\n",
      "الانحراف المعياري: 15.247950681976906\n"
     ]
    }
   ],
   "source": [
    "import pandas as pd\n",
    "\n",
    "# درجات الطلاب في الفصل A (قريبة جدًا من بعضها)\n",
    "class_A = pd.Series([88, 90, 92, 89, 91])\n",
    "\n",
    "# درجات الطلاب في الفصل B (متفاوتة جدًا)\n",
    "class_B = pd.Series([60, 75, 90, 100, 85])\n",
    "\n",
    "# حساب المتوسط والانحراف المعياري للفصل A\n",
    "print(\"📘 الفصل A\")\n",
    "print(\"المتوسط:\", class_A.mean())\n",
    "print(\"الانحراف المعياري:\", class_A.std())\n",
    "\n",
    "# حساب المتوسط والانحراف المعياري للفصل B\n",
    "print(\"\\n📙 الفصل B\")\n",
    "print(\"المتوسط:\", class_B.mean())\n",
    "print(\"الانحراف المعياري:\", class_B.std())\n"
   ]
  },
  {
   "cell_type": "code",
   "execution_count": 4,
   "id": "87a755e3-d79d-4e4c-8a97-c8e05dd53731",
   "metadata": {},
   "outputs": [
    {
     "name": "stdout",
     "output_type": "stream",
     "text": [
      "✅ تم إنشاء الملف بنجاح!\n"
     ]
    }
   ],
   "source": [
    "import pandas as pd\n",
    "\n",
    "# إنشاء بيانات وهمية (قاموس)\n",
    "data = {\n",
    "    \"name\": [\"Ahmad\", \"Sara\", \"Lina\", \"Tamer\", \"Noor\"],\n",
    "    \"score\": [88, 90, 92, 89, 91]\n",
    "}\n",
    "\n",
    "# تحويلها إلى DataFrame (جدول)\n",
    "df = pd.DataFrame(data)\n",
    "\n",
    "# حفظها في ملف CSV باسم grades.csv\n",
    "df.to_csv(\"grades.csv\", index=False)\n",
    "\n",
    "print(\"✅ تم إنشاء الملف بنجاح!\")\n"
   ]
  },
  {
   "cell_type": "code",
   "execution_count": 5,
   "id": "a453b5c8-4763-4a83-ba0e-950757340d13",
   "metadata": {},
   "outputs": [
    {
     "name": "stdout",
     "output_type": "stream",
     "text": [
      "📄 البيانات:\n",
      "    name  score\n",
      "0  Ahmad     88\n",
      "1   Sara     90\n",
      "2   Lina     92\n",
      "3  Tamer     89\n",
      "4   Noor     91\n",
      "\n",
      "📊 المتوسط: 90.0\n",
      "📉 الانحراف المعياري: 1.5811388300841898\n"
     ]
    }
   ],
   "source": [
    "import pandas as pd\n",
    "\n",
    "# قراءة الملف\n",
    "df = pd.read_csv(\"grades.csv\")\n",
    "\n",
    "# عرض محتوى الجدول\n",
    "print(\"📄 البيانات:\")\n",
    "print(df)\n",
    "\n",
    "# حساب المتوسط\n",
    "mean_score = df[\"score\"].mean()\n",
    "print(\"\\n📊 المتوسط:\", mean_score)\n",
    "\n",
    "# حساب الانحراف المعياري\n",
    "std_score = df[\"score\"].std()\n",
    "print(\"📉 الانحراف المعياري:\", std_score)\n"
   ]
  },
  {
   "cell_type": "code",
   "execution_count": 6,
   "id": "5a7800c2-0168-4b52-ab38-2ad20d2280e9",
   "metadata": {},
   "outputs": [
    {
     "name": "stdout",
     "output_type": "stream",
     "text": [
      "    name  score\n",
      "0  Ahmad     88\n",
      "1   Sara     90\n",
      "2   Lina     92\n",
      "3  Tamer     89\n",
      "4   Noor     91\n"
     ]
    }
   ],
   "source": [
    "import pandas as pd\n",
    "\n",
    "# قراءة الملف\n",
    "df = pd.read_csv(\"grades.csv\")\n",
    "\n",
    "# عرض أول البيانات\n",
    "print(df.head())\n"
   ]
  },
  {
   "cell_type": "code",
   "execution_count": 7,
   "id": "599cf1e6-9317-42a3-baa5-90f4cb1db946",
   "metadata": {},
   "outputs": [
    {
     "name": "stdout",
     "output_type": "stream",
     "text": [
      "عدد الطلاب: 5\n",
      "المتوسط: 90.0\n",
      "الانحراف المعياري: 1.5811388300841898\n",
      "أعلى درجة: 92\n",
      "أقل درجة: 88\n"
     ]
    }
   ],
   "source": [
    "print(\"عدد الطلاب:\", len(df))\n",
    "print(\"المتوسط:\", df[\"score\"].mean())\n",
    "print(\"الانحراف المعياري:\", df[\"score\"].std())\n",
    "print(\"أعلى درجة:\", df[\"score\"].max())\n",
    "print(\"أقل درجة:\", df[\"score\"].min())\n"
   ]
  },
  {
   "cell_type": "code",
   "execution_count": 8,
   "id": "cf52ddae-b1ff-469b-b128-ff256414ba6d",
   "metadata": {},
   "outputs": [
    {
     "data": {
      "image/png": "[encoded data removed]",
      "text/plain": [
       "<Figure size 800x400 with 1 Axes>"
      ]
     },
     "metadata": {},
     "output_type": "display_data"
    }
   ],
   "source": [
    "import matplotlib.pyplot as plt\n",
    "\n",
    "# رسم مخطط أعمدة\n",
    "plt.figure(figsize=(8,4))\n",
    "plt.bar(df[\"name\"], df[\"score\"], color='skyblue')\n",
    "plt.title(\"درجات الطلاب\")\n",
    "plt.xlabel(\"الطالب\")\n",
    "plt.ylabel(\"الدرجة\")\n",
    "plt.ylim(0, 100)\n",
    "plt.grid(axis='y')\n",
    "plt.show()\n"
   ]
  },
  {
   "cell_type": "code",
   "execution_count": 9,
   "id": "fc7c4601-d97a-4191-8e1e-0289bef9decd",
   "metadata": {},
   "outputs": [
    {
     "data": {
      "image/png": "[encoded data removed]",
      "text/plain": [
       "<Figure size 640x480 with 1 Axes>"
      ]
     },
     "metadata": {},
     "output_type": "display_data"
    }
   ],
   "source": [
    "# رسم هيستوغرام لتوزيع الدرجات\n",
    "plt.hist(df[\"score\"], bins=5, color='green', alpha=0.7)\n",
    "plt.title(\"توزيع الدرجات\")\n",
    "plt.xlabel(\"الدرجة\")\n",
    "plt.ylabel(\"عدد الطلاب\")\n",
    "plt.grid(True)\n",
    "plt.show()\n"
   ]
  },
  {
   "cell_type": "code",
   "execution_count": null,
   "id": "0914f3cd-080c-44cb-9dc2-6596ba2304f9",
   "metadata": {},
   "outputs": [],
   "source": []
  }
 ],
 "metadata": {
  "kernelspec": {
   "display_name": "Python 3 (ipykernel)",
   "language": "python",
   "name": "python3"
  },
  "language_info": {
   "codemirror_mode": {
    "name": "ipython",
    "version": 3
   },
   "file_extension": ".py",
   "mimetype": "text/x-python",
   "name": "python",
   "nbconvert_exporter": "python",
   "pygments_lexer": "ipython3",
   "version": "3.12.9"
  }
 },
 "nbformat": 4,
 "nbformat_minor": 5
}
